{
 "cells": [
  {
   "cell_type": "code",
   "execution_count": 2,
   "id": "c53b0128-0aff-4c1a-ac69-e8e639e4bba8",
   "metadata": {},
   "outputs": [],
   "source": [
    "# 1. 사용환경 준비\n",
    "import openai\n",
    "import os"
   ]
  },
  {
   "cell_type": "code",
   "execution_count": 3,
   "id": "4c413fb9-7755-4ea2-a53a-b57d8996f9d1",
   "metadata": {},
   "outputs": [
    {
     "name": "stdin",
     "output_type": "stream",
     "text": [
      "OpenAI API key 입력:  ········\n"
     ]
    }
   ],
   "source": [
    "# 2. 모델 로드기기\n",
    "\n",
    "from langchain_openai import ChatOpenAI\n",
    "from langchain.schema import HumanMessage\n",
    "\n",
    "import os\n",
    "from getpass import getpass\n",
    "os.environ[\"OPENAI_API_KEY\"] = getpass(\"OpenAI API key 입력: \")\n",
    "\n",
    "model = ChatOpenAI(model=\"gpt-4\", temperature=0)"
   ]
  },
  {
   "cell_type": "code",
   "execution_count": 4,
   "id": "cf8126ee-abef-4c15-91bc-b1c69f9af1d7",
   "metadata": {},
   "outputs": [],
   "source": [
    "# 3. 문서 로드기기\n",
    "\n",
    "from langchain.document_loaders import PyPDFLoader\n",
    "\n",
    "loader = PyPDFLoader(\"2024세금자료.pdf\")\n",
    "docs = loader.load()"
   ]
  },
  {
   "cell_type": "code",
   "execution_count": 5,
   "id": "d19134aa-1b45-4ec2-b816-59c29d2e1088",
   "metadata": {},
   "outputs": [],
   "source": [
    "# 4-1. 문서 청크로 나기\n",
    "\n",
    "from langchain.text_splitter import CharacterTextSplitter\n",
    "\n",
    "text_splitter = CharacterTextSplitter(\n",
    "    separator=\"\\n\\n\",  # 텍스트를 나누는 기준이 되는 구분자\n",
    "    chunk_size=100,    # 각 청크의 최대 크기 (100자)\n",
    "    chunk_overlap=10,  # 각 청크가 겹치는 부분 (10자)\n",
    "    length_function=len,  # 길이를 측정하는 함수 (여기서는 len 함수 사용)\n",
    "    is_separator_regex=False  # 구분자를 정규식으로 처리할지 여부\n",
    ")\n",
    "\n",
    "splits = text_splitter.split_documents(docs)  # 문서를 청킹\n"
   ]
  },
  {
   "cell_type": "code",
   "execution_count": 6,
   "id": "0319662d-5511-4a22-af3b-ca60634cfdd2",
   "metadata": {},
   "outputs": [],
   "source": [
    "from langchain.text_splitter import RecursiveCharacterTextSplitter\n",
    "\n",
    "recursive_text_splitter = RecursiveCharacterTextSplitter(\n",
    "    chunk_size=100,     # 각 청크의 최대 크기 (100자)\n",
    "    chunk_overlap=10,   # 각 청크가 겹치는 부분 (10자)\n",
    "    length_function=len,  # 길이를 측정하는 함수 (여기서는 len 함수 사용)\n",
    "    is_separator_regex=False  # 구분자를 정규식으로 처리할지 여부\n",
    ")\n",
    "\n",
    "splits = recursive_text_splitter.split_documents(docs)  # 문서를 청킹\n"
   ]
  },
  {
   "cell_type": "code",
   "execution_count": 7,
   "id": "d7aca843-17db-4912-a1bc-b74d95bb36be",
   "metadata": {},
   "outputs": [
    {
     "name": "stdout",
     "output_type": "stream",
     "text": [
      "CharacterTextSplitter 방식 결과:\n",
      "page_content='지난해 말 국내 상장법인 주식을 보유한 개인 투자자가 1,400만명을 넘어서는 등  \n",
      "국민들의 주식시장에 대한 관심이 크게 증가하였습니다.' metadata={'source': '2024세금자료.pdf', 'page': 2}\n",
      "page_content='최근 일반 국민들의 주식투자에 대한 관심이 크게 증가했음에도 불구하고, 주식 투자  \n",
      "관련 세금문제 등 궁금한 사항에 대하여 도움을 줄 수 있는 안내책자 등은 시중에서' metadata={'source': '2024세금자료.pdf', 'page': 2}\n",
      "page_content='쉽게 찾아보기 어려운 게 현실입니다.\n",
      "이에 국세청에서는 주식 관련 각종 세금에 대한 납세자들의 이해를 높이고 납세의무' metadata={'source': '2024세금자료.pdf', 'page': 2}\n",
      "page_content='이행에 도움이 될 수 있도록 「주식과 세금」 책자를 처음으로 제작·발간하게 되었습니다.\n",
      "이번에 새롭게 출간하는 ‘주식과 세금’ 책자는 주식거래의 기초상식과 주식의 취득' metadata={'source': '2024세금자료.pdf', 'page': 2}\n",
      "page_content='부터 보유 및 처분시까지 단계별 세금문제를 총 76개의 문답형식으로 구성하는 한편, \n",
      "인포그래픽 등을 적극 활용하여 가독성을 제고하였으며, 구체적인 절세 꿀팁 및 자주' metadata={'source': '2024세금자료.pdf', 'page': 2}\n",
      "page_content='발생하는 실수 사례 등을 추가하여 활용성도 강화하였습니다.\n",
      "모쪼록, 이 책자가 주식등 관련 납세자들의 성실한 납세의무 이행에 기여할 수 있기를\n",
      "기대합니다.\n",
      "2024.  5' metadata={'source': '2024세금자료.pdf', 'page': 2}\n",
      "page_content='2024.  5\n",
      "국세청 자산과세국장\n",
      "머리말' metadata={'source': '2024세금자료.pdf', 'page': 2}\n",
      "page_content='본 책자에 수록된 내용은 세법에서 규정하고 있는 내용을 알기 쉽게 요약하여 서술한\n",
      "것으로 모든 법령규정을 담고 있지는 않습니다.' metadata={'source': '2024세금자료.pdf', 'page': 3}\n",
      "page_content='또한, 법령이 개정되거나 법령의 해석이 변경되어 본 책자의 내용과 다른 경우가 발생\n",
      "할 수 있으므로 실제 사안에 적용하는 경우 반드시 관련 법령과 해석 등을 충분히 확인' metadata={'source': '2024세금자료.pdf', 'page': 3}\n",
      "page_content='하시기 바랍니다.\n",
      "본 책자는 발간일 현재 개정된 법령 등을 기준으로 작성되었습니다. 다만, 시행이  \n",
      "유예된 법령 등은 반영되어 있지 않습니다.' metadata={'source': '2024세금자료.pdf', 'page': 3}\n"
     ]
    }
   ],
   "source": [
    "# 4-2. 문서 청킹 결과 출력\n",
    "\n",
    "# CharacterTextSplitter 방식 결과 출력\n",
    "print(\"CharacterTextSplitter 방식 결과:\")\n",
    "for chunk in splits[:10]:  # 상위 10개 청크 출력\n",
    "    print(chunk)"
   ]
  },
  {
   "cell_type": "code",
   "execution_count": 8,
   "id": "c8e7a974-e194-443e-9cfa-65aac793fb1f",
   "metadata": {},
   "outputs": [
    {
     "name": "stdout",
     "output_type": "stream",
     "text": [
      "RecursiveCharacterTextSplitter 방식 결과:\n",
      "page_content='지난해 말 국내 상장법인 주식을 보유한 개인 투자자가 1,400만명을 넘어서는 등  \n",
      "국민들의 주식시장에 대한 관심이 크게 증가하였습니다.' metadata={'source': '2024세금자료.pdf', 'page': 2}\n",
      "page_content='최근 일반 국민들의 주식투자에 대한 관심이 크게 증가했음에도 불구하고, 주식 투자  \n",
      "관련 세금문제 등 궁금한 사항에 대하여 도움을 줄 수 있는 안내책자 등은 시중에서' metadata={'source': '2024세금자료.pdf', 'page': 2}\n",
      "page_content='쉽게 찾아보기 어려운 게 현실입니다.\n",
      "이에 국세청에서는 주식 관련 각종 세금에 대한 납세자들의 이해를 높이고 납세의무' metadata={'source': '2024세금자료.pdf', 'page': 2}\n",
      "page_content='이행에 도움이 될 수 있도록 「주식과 세금」 책자를 처음으로 제작·발간하게 되었습니다.\n",
      "이번에 새롭게 출간하는 ‘주식과 세금’ 책자는 주식거래의 기초상식과 주식의 취득' metadata={'source': '2024세금자료.pdf', 'page': 2}\n",
      "page_content='부터 보유 및 처분시까지 단계별 세금문제를 총 76개의 문답형식으로 구성하는 한편, \n",
      "인포그래픽 등을 적극 활용하여 가독성을 제고하였으며, 구체적인 절세 꿀팁 및 자주' metadata={'source': '2024세금자료.pdf', 'page': 2}\n",
      "page_content='발생하는 실수 사례 등을 추가하여 활용성도 강화하였습니다.\n",
      "모쪼록, 이 책자가 주식등 관련 납세자들의 성실한 납세의무 이행에 기여할 수 있기를\n",
      "기대합니다.\n",
      "2024.  5' metadata={'source': '2024세금자료.pdf', 'page': 2}\n",
      "page_content='2024.  5\n",
      "국세청 자산과세국장\n",
      "머리말' metadata={'source': '2024세금자료.pdf', 'page': 2}\n",
      "page_content='본 책자에 수록된 내용은 세법에서 규정하고 있는 내용을 알기 쉽게 요약하여 서술한\n",
      "것으로 모든 법령규정을 담고 있지는 않습니다.' metadata={'source': '2024세금자료.pdf', 'page': 3}\n",
      "page_content='또한, 법령이 개정되거나 법령의 해석이 변경되어 본 책자의 내용과 다른 경우가 발생\n",
      "할 수 있으므로 실제 사안에 적용하는 경우 반드시 관련 법령과 해석 등을 충분히 확인' metadata={'source': '2024세금자료.pdf', 'page': 3}\n",
      "page_content='하시기 바랍니다.\n",
      "본 책자는 발간일 현재 개정된 법령 등을 기준으로 작성되었습니다. 다만, 시행이  \n",
      "유예된 법령 등은 반영되어 있지 않습니다.' metadata={'source': '2024세금자료.pdf', 'page': 3}\n"
     ]
    }
   ],
   "source": [
    "# RecursiveCharacterTextSplitter 방식 결과 출력\n",
    "print(\"RecursiveCharacterTextSplitter 방식 결과:\")\n",
    "for chunk in splits[:10]:  \n",
    "    print(chunk)"
   ]
  },
  {
   "cell_type": "code",
   "execution_count": 9,
   "id": "974033af-f9a5-40b2-8607-1341b4cb0b29",
   "metadata": {},
   "outputs": [],
   "source": [
    "# 5. 벡터 임베딩 생성\n",
    "\n",
    "from langchain_openai import OpenAIEmbeddings\n",
    "\n",
    "embeddings = OpenAIEmbeddings(model=\"text-embedding-ada-002\")"
   ]
  },
  {
   "cell_type": "code",
   "execution_count": 10,
   "id": "00602261-3923-462a-91c4-303a3cfc9918",
   "metadata": {},
   "outputs": [],
   "source": [
    "# 6. 벡터 스토어 생성\n",
    "\n",
    "import faiss\n",
    "from langchain_community.vectorstores import FAISS\n",
    "\n",
    "vectorstore = FAISS.from_documents(documents=splits, embedding=embeddings)"
   ]
  },
  {
   "cell_type": "code",
   "execution_count": 11,
   "id": "40f70156-d022-4154-ad27-028528584f41",
   "metadata": {},
   "outputs": [],
   "source": [
    "# 7. retriever 생성\n",
    "\n",
    "retriever = vectorstore.as_retriever(search_type=\"similarity\", search_kwargs={\"k\": 1})"
   ]
  },
  {
   "cell_type": "code",
   "execution_count": 12,
   "id": "4bff74d6-b38a-4766-9798-f7ae96a7ef67",
   "metadata": {},
   "outputs": [],
   "source": [
    "# 8. 프롬프트 템플릿 정의\n",
    "\n",
    "from langchain_core.prompts import ChatPromptTemplate\n",
    "from langchain_core.runnables import RunnablePassthrough\n",
    "\n",
    "# 프롬프트 템플릿 정의\n",
    "contextual_prompt = ChatPromptTemplate.from_messages([\n",
    "    (\"system\", \"Answer the question using only the following context.\"),\n",
    "    (\"user\", \"Context: {context}\\\\n\\\\nQuestion: {question}\")\n",
    "])"
   ]
  },
  {
   "cell_type": "code",
   "execution_count": 13,
   "id": "374e25b3-5a63-4441-a489-5d35a2f768a1",
   "metadata": {},
   "outputs": [
    {
     "name": "stdout",
     "output_type": "stream",
     "text": [
      "System: Answer the question using only the following context.\n",
      "Human: Context: The stock market in South Korea operates under various taxation laws, such as capital gains tax on stocks.\\n\\nQuestion: What taxes apply to stock investments in South Korea?\n"
     ]
    }
   ],
   "source": [
    "# Define the context and question in English\n",
    "context = \"The stock market in South Korea operates under various taxation laws, such as capital gains tax on stocks.\"\n",
    "question = \"What taxes apply to stock investments in South Korea?\"\n",
    "\n",
    "# Fill the template with context and question\n",
    "prompt = contextual_prompt.format(context=context, question=question)\n",
    "\n",
    "# Print the final prompt\n",
    "print(prompt)\n"
   ]
  },
  {
   "cell_type": "code",
   "execution_count": 14,
   "id": "b412de2c-83b5-4274-b8ee-252aac318924",
   "metadata": {},
   "outputs": [
    {
     "name": "stderr",
     "output_type": "stream",
     "text": [
      "C:\\Users\\mamem\\AppData\\Local\\Temp\\ipykernel_7320\\2584458674.py:41: LangChainDeprecationWarning: The class `LLMChain` was deprecated in LangChain 0.1.17 and will be removed in 1.0. Use :meth:`~RunnableSequence, e.g., `prompt | llm`` instead.\n",
      "  llm_chain = LLMChain(llm=model, prompt=contextual_prompt)\n"
     ]
    }
   ],
   "source": [
    "# 9. RAG 체인 구성\n",
    "\n",
    "from langchain.chains import LLMChain\n",
    "\n",
    "class SimplePassThrough:\n",
    "    def invoke(self, inputs, **kwargs):\n",
    "        return inputs\n",
    "\n",
    "class ContextToPrompt:\n",
    "    def __init__(self, prompt_template):\n",
    "        self.prompt_template = prompt_template\n",
    "    \n",
    "    def invoke(self, inputs):\n",
    "        # 문서 내용을 텍스트로 변환\n",
    "        if isinstance(inputs, list):\n",
    "            context_text = \"\\n\".join([doc.page_content for doc in inputs])\n",
    "        else:\n",
    "            context_text = inputs\n",
    "        \n",
    "        # 프롬프트 템플릿에 적용\n",
    "        formatted_prompt = self.prompt_template.format_messages(\n",
    "            context=context_text,\n",
    "            question=inputs.get(\"question\", \"\")\n",
    "        )\n",
    "        return formatted_prompt\n",
    "\n",
    "# Retriever를 invoke() 메서드로 래핑하는 클래스 정의\n",
    "class RetrieverWrapper:\n",
    "    def __init__(self, retriever):\n",
    "        self.retriever = retriever\n",
    "\n",
    "    def invoke(self, inputs):\n",
    "        if isinstance(inputs, dict):\n",
    "            query = inputs.get(\"question\", \"\")\n",
    "        else:\n",
    "            query = inputs\n",
    "        # 검색 수행\n",
    "        response_docs = self.retriever.get_relevant_documents(query)\n",
    "        return response_docs\n",
    "\n",
    "llm_chain = LLMChain(llm=model, prompt=contextual_prompt)\n",
    "\n",
    "# RAG 체인 설정\n",
    "rag_chain_debug = {\n",
    "    \"context\": RetrieverWrapper(retriever),\n",
    "    \"prompt\": ContextToPrompt(contextual_prompt),\n",
    "    \"llm\": model\n",
    "}"
   ]
  },
  {
   "cell_type": "code",
   "execution_count": null,
   "id": "68aaa316-93b5-4518-892d-ff3122a5bc07",
   "metadata": {},
   "outputs": [
    {
     "name": "stdout",
     "output_type": "stream",
     "text": [
      "========================\n"
     ]
    },
    {
     "name": "stdin",
     "output_type": "stream",
     "text": [
      "질문을 입력하세요 :  How much tax do I have to pay when transferring stocks?\n"
     ]
    },
    {
     "name": "stderr",
     "output_type": "stream",
     "text": [
      "C:\\Users\\mamem\\AppData\\Local\\Temp\\ipykernel_7320\\2584458674.py:38: LangChainDeprecationWarning: The method `BaseRetriever.get_relevant_documents` was deprecated in langchain-core 0.1.46 and will be removed in 1.0. Use :meth:`~invoke` instead.\n",
      "  response_docs = self.retriever.get_relevant_documents(query)\n"
     ]
    },
    {
     "name": "stdout",
     "output_type": "stream",
     "text": [
      "\n",
      "답변:\n",
      "When transferring stocks, you have to pay a securities transaction tax that corresponds to 0.1 ~ 0.35% of the selling price.\n",
      "========================\n"
     ]
    }
   ],
   "source": [
    "# 10. 챗봇 구동 확\n",
    "\n",
    "# 챗봇 구동\n",
    "while True:\n",
    "    print(\"========================\")\n",
    "    query = input(\"질문을 입력하세요 : \")\n",
    "    \n",
    "    # 1. Retriever로 관련 문서 검색\n",
    "    response_docs = rag_chain_debug[\"context\"].invoke({\"question\": query})\n",
    "    \n",
    "    # 2. 문서를 프롬프트로 변환\n",
    "    prompt_messages = rag_chain_debug[\"prompt\"].invoke({\n",
    "        \"context\": response_docs,\n",
    "        \"question\": query\n",
    "    })\n",
    "    \n",
    "    # 3. LLM으로 응답 생성\n",
    "    response = rag_chain_debug[\"llm\"].invoke(prompt_messages)\n",
    "    \n",
    "    print(\"\\n답변:\")\n",
    "    print(response.content)"
   ]
  },
  {
   "cell_type": "code",
   "execution_count": null,
   "id": "5ef98ef2-33b5-4837-b8a8-8b7e957b269b",
   "metadata": {},
   "outputs": [],
   "source": []
  }
 ],
 "metadata": {
  "kernelspec": {
   "display_name": "myenv",
   "language": "python",
   "name": "myenv"
  },
  "language_info": {
   "codemirror_mode": {
    "name": "ipython",
    "version": 3
   },
   "file_extension": ".py",
   "mimetype": "text/x-python",
   "name": "python",
   "nbconvert_exporter": "python",
   "pygments_lexer": "ipython3",
   "version": "3.12.4"
  }
 },
 "nbformat": 4,
 "nbformat_minor": 5
}
